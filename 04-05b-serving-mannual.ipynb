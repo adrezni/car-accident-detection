{
 "cells": [
  {
   "cell_type": "markdown",
   "id": "2f037790-1ea9-4388-95fc-cc755b717397",
   "metadata": {},
   "source": [
    "# Manually Serve the model \n",
    "\n",
    "In notebook '04-04-accident-recognition' we were able to use the retrained model to predict a 'severe' or 'moderate' car accident within an image.  \n",
    "\n",
    "Next we will determine if we can manually connect with the model from the model server and model pipeline we have created and deployed.  This will be done through an API, which will be served directly from our container using Flask"
   ]
  },
  {
   "cell_type": "code",
   "execution_count": 3,
   "id": "03c4c9cc-1e3a-43a4-92cf-44af26573030",
   "metadata": {},
   "outputs": [
    {
     "name": "stdout",
     "output_type": "stream",
     "text": [
      "Requirement already satisfied: ultralytics in /opt/app-root/lib/python3.8/site-packages (8.0.235)\n",
      "Requirement already satisfied: matplotlib>=3.3.0 in /opt/app-root/lib/python3.8/site-packages (from ultralytics) (3.5.2)\n",
      "Requirement already satisfied: numpy>=1.22.2 in /opt/app-root/lib/python3.8/site-packages (from ultralytics) (1.23.1)\n",
      "Requirement already satisfied: opencv-python>=4.6.0 in /opt/app-root/lib/python3.8/site-packages (from ultralytics) (4.7.0.68)\n",
      "Requirement already satisfied: pillow>=7.1.2 in /opt/app-root/lib/python3.8/site-packages (from ultralytics) (10.2.0)\n",
      "Requirement already satisfied: pyyaml>=5.3.1 in /opt/app-root/lib/python3.8/site-packages (from ultralytics) (6.0.1)\n",
      "Requirement already satisfied: requests>=2.23.0 in /opt/app-root/lib/python3.8/site-packages (from ultralytics) (2.31.0)\n",
      "Requirement already satisfied: scipy>=1.4.1 in /opt/app-root/lib/python3.8/site-packages (from ultralytics) (1.10.0)\n",
      "Requirement already satisfied: torch>=1.8.0 in /opt/app-root/lib/python3.8/site-packages (from ultralytics) (2.1.2+cu121)\n",
      "Requirement already satisfied: torchvision>=0.9.0 in /opt/app-root/lib/python3.8/site-packages (from ultralytics) (0.16.2+cu121)\n",
      "Requirement already satisfied: tqdm>=4.64.0 in /opt/app-root/lib/python3.8/site-packages (from ultralytics) (4.66.1)\n",
      "Requirement already satisfied: psutil in /opt/app-root/lib/python3.8/site-packages (from ultralytics) (5.9.7)\n",
      "Requirement already satisfied: py-cpuinfo in /opt/app-root/lib/python3.8/site-packages (from ultralytics) (9.0.0)\n",
      "Requirement already satisfied: thop>=0.1.1 in /opt/app-root/lib/python3.8/site-packages (from ultralytics) (0.1.1.post2209072238)\n",
      "Requirement already satisfied: pandas>=1.1.4 in /opt/app-root/lib/python3.8/site-packages (from ultralytics) (1.3.5)\n",
      "Requirement already satisfied: seaborn>=0.11.0 in /opt/app-root/lib/python3.8/site-packages (from ultralytics) (0.13.1)\n",
      "Requirement already satisfied: cycler>=0.10 in /opt/app-root/lib/python3.8/site-packages (from matplotlib>=3.3.0->ultralytics) (0.12.1)\n",
      "Requirement already satisfied: fonttools>=4.22.0 in /opt/app-root/lib/python3.8/site-packages (from matplotlib>=3.3.0->ultralytics) (4.47.0)\n",
      "Requirement already satisfied: kiwisolver>=1.0.1 in /opt/app-root/lib/python3.8/site-packages (from matplotlib>=3.3.0->ultralytics) (1.4.5)\n",
      "Requirement already satisfied: packaging>=20.0 in /opt/app-root/lib/python3.8/site-packages (from matplotlib>=3.3.0->ultralytics) (23.2)\n",
      "Requirement already satisfied: pyparsing>=2.2.1 in /opt/app-root/lib/python3.8/site-packages (from matplotlib>=3.3.0->ultralytics) (3.1.1)\n",
      "Requirement already satisfied: python-dateutil>=2.7 in /opt/app-root/lib/python3.8/site-packages (from matplotlib>=3.3.0->ultralytics) (2.8.2)\n",
      "Requirement already satisfied: pytz>=2017.3 in /opt/app-root/lib/python3.8/site-packages (from pandas>=1.1.4->ultralytics) (2023.3.post1)\n",
      "Requirement already satisfied: charset-normalizer<4,>=2 in /opt/app-root/lib/python3.8/site-packages (from requests>=2.23.0->ultralytics) (3.3.2)\n",
      "Requirement already satisfied: idna<4,>=2.5 in /opt/app-root/lib/python3.8/site-packages (from requests>=2.23.0->ultralytics) (3.6)\n",
      "Requirement already satisfied: urllib3<3,>=1.21.1 in /opt/app-root/lib/python3.8/site-packages (from requests>=2.23.0->ultralytics) (1.26.18)\n",
      "Requirement already satisfied: certifi>=2017.4.17 in /opt/app-root/lib/python3.8/site-packages (from requests>=2.23.0->ultralytics) (2023.11.17)\n",
      "Requirement already satisfied: filelock in /opt/app-root/lib/python3.8/site-packages (from torch>=1.8.0->ultralytics) (3.13.1)\n",
      "Requirement already satisfied: typing-extensions in /opt/app-root/lib/python3.8/site-packages (from torch>=1.8.0->ultralytics) (4.9.0)\n",
      "Requirement already satisfied: sympy in /opt/app-root/lib/python3.8/site-packages (from torch>=1.8.0->ultralytics) (1.12)\n",
      "Requirement already satisfied: networkx in /opt/app-root/lib/python3.8/site-packages (from torch>=1.8.0->ultralytics) (2.8.2)\n",
      "Requirement already satisfied: jinja2 in /opt/app-root/lib/python3.8/site-packages (from torch>=1.8.0->ultralytics) (3.1.2)\n",
      "Requirement already satisfied: fsspec in /opt/app-root/lib/python3.8/site-packages (from torch>=1.8.0->ultralytics) (2023.12.2)\n",
      "Requirement already satisfied: triton==2.1.0 in /opt/app-root/lib/python3.8/site-packages (from torch>=1.8.0->ultralytics) (2.1.0)\n",
      "Requirement already satisfied: six>=1.5 in /opt/app-root/lib/python3.8/site-packages (from python-dateutil>=2.7->matplotlib>=3.3.0->ultralytics) (1.16.0)\n",
      "Requirement already satisfied: MarkupSafe>=2.0 in /opt/app-root/lib/python3.8/site-packages (from jinja2->torch>=1.8.0->ultralytics) (2.1.3)\n",
      "Requirement already satisfied: mpmath>=0.19 in /opt/app-root/lib/python3.8/site-packages (from sympy->torch>=1.8.0->ultralytics) (1.3.0)\n"
     ]
    }
   ],
   "source": [
    "!pip install ultralytics\n",
    "from ultralytics import YOLO\n",
    "from PIL import Image\n",
    "\n",
    "from flask import request, Response, Flask  #create Flask web app and receive requests from frontent and send response back\n",
    "import json  #convert the array of bounding boxes to JSON before returning it\n",
    "import os"
   ]
  },
  {
   "cell_type": "code",
   "execution_count": 5,
   "id": "c6eccba1-529b-40af-a02c-722dd5ae59ee",
   "metadata": {},
   "outputs": [
    {
     "name": "stdout",
     "output_type": "stream",
     "text": [
      "Found https://rhods-public.s3.amazonaws.com/demo-models/ic-models/accident/accident_detect.onnx locally at accident_detect.onnx\n"
     ]
    }
   ],
   "source": [
    "#location of your test file\n",
    "my_image = 'images/carImage1.jpg'\n",
    "\n",
    "#host route\n",
    "my_route = 'http://localhost:5000'\n",
    "\n",
    "#location of model in S3\n",
    "model = YOLO(\"https://rhods-public.s3.amazonaws.com/demo-models/ic-models/accident/accident_detect.onnx\", task=\"detect\")\n",
    "\n",
    "os.environ[\"MY_IMAGE\"] = my_image\n",
    "os.environ[\"MY_ROUTE\"] = my_route"
   ]
  },
  {
   "cell_type": "code",
   "execution_count": 6,
   "id": "e16bba87-caaa-40e1-9e41-471b787167a8",
   "metadata": {},
   "outputs": [
    {
     "name": "stdout",
     "output_type": "stream",
     "text": [
      "{\"status\":\"ok\"}\n"
     ]
    }
   ],
   "source": [
    "#check the status of our route\n",
    "!curl \"${MY_ROUTE}/status\""
   ]
  },
  {
   "cell_type": "code",
   "execution_count": 8,
   "id": "363c41c3-62f0-4c6a-b8f1-2f0e34b5e30e",
   "metadata": {},
   "outputs": [
    {
     "name": "stdout",
     "output_type": "stream",
     "text": [
      "curl: Remote file name has no length!\n",
      "curl: try 'curl --help' or 'curl --manual' for more information\n",
      "<!doctype html>\n",
      "<html lang=en>\n",
      "<title>500 Internal Server Error</title>\n",
      "<h1>Internal Server Error</h1>\n",
      "<p>The server encountered an internal error and was unable to complete your request. Either the server is overloaded or there is an error in the application.</p>\n"
     ]
    }
   ],
   "source": [
    "#call our prediction function and process our image through our deployed model\n",
    "!(echo -n '{\"image\": \"'; base64 \"${MY_IMAGE}\"; echo '\"}') | curl -X POST -H \"Content-Type: application/json\" -d @- ${MY_ROUTE}/predictions"
   ]
  },
  {
   "cell_type": "code",
   "execution_count": null,
   "id": "68fba1bf-c79d-439c-9421-d771ba81aba5",
   "metadata": {},
   "outputs": [],
   "source": [
    "#define our predict function and pass the path to our model and car image.\n",
    "def predict(best_model_path, car_image_path):\n",
    "    model = YOLO(best_model_path)\n",
    "    results = model.predict(car_image_path)\n",
    "    return results[0]"
   ]
  },
  {
   "cell_type": "code",
   "execution_count": null,
   "id": "79374798-8dc6-4235-9d4e-dc1c0e397bf5",
   "metadata": {},
   "outputs": [],
   "source": [
    "#In the photo draw boxes listing name, probability around each car (object type)\n",
    "def draw_boxes_image(result):\n",
    "    print(\"inside draw boxes image\")\n",
    "    #Image.fromarray(result.plot()[:,:,::-1])"
   ]
  },
  {
   "cell_type": "code",
   "execution_count": null,
   "id": "844cf130-395f-4007-b03c-fb13db838e37",
   "metadata": {},
   "outputs": [],
   "source": [
    "#call our predict function\n",
    "prediction_results = predict(\"models/best.pt\", \"images/carImage1.jpg\")\n",
    "Image.fromarray(prediction_results.plot()[:,:,::-1])\n",
    "#draw_boxes_image(prediction_results, image)"
   ]
  },
  {
   "cell_type": "code",
   "execution_count": null,
   "id": "2b4703d1-89f7-440f-9692-6c647ac0f6f0",
   "metadata": {},
   "outputs": [],
   "source": []
  }
 ],
 "metadata": {
  "kernelspec": {
   "display_name": "Python 3 (ipykernel)",
   "language": "python",
   "name": "python3"
  },
  "language_info": {
   "codemirror_mode": {
    "name": "ipython",
    "version": 3
   },
   "file_extension": ".py",
   "mimetype": "text/x-python",
   "name": "python",
   "nbconvert_exporter": "python",
   "pygments_lexer": "ipython3",
   "version": "3.8.6"
  }
 },
 "nbformat": 4,
 "nbformat_minor": 5
}
